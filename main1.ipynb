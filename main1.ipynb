{
 "cells": [
  {
   "cell_type": "code",
   "execution_count": 1,
   "metadata": {},
   "outputs": [
    {
     "name": "stdout",
     "output_type": "stream",
     "text": [
      "d6d2e8a428b9ea5e7856e66f736dd74de2c8979fe38daa00dc3a9280c116a3e8\n"
     ]
    }
   ],
   "source": [
    "import secrets\n",
    "secret_key = secrets.token_hex(32)\n",
    "print(secret_key)"
   ]
  },
  {
   "cell_type": "code",
   "execution_count": 1,
   "metadata": {},
   "outputs": [],
   "source": [
    "import psycopg2"
   ]
  },
  {
   "cell_type": "code",
   "execution_count": 2,
   "metadata": {},
   "outputs": [
    {
     "name": "stdout",
     "output_type": "stream",
     "text": [
      "Connection to PostgreSQL successful!\n"
     ]
    }
   ],
   "source": [
    "try:\n",
    "    db_conn=psycopg2.connect(\n",
    "        dbname=\"BlueBash\",\n",
    "        user=\"postgres\",\n",
    "        password=\"7895\",\n",
    "        host=\"127.0.0.1\",\n",
    "        port=\"5432\"\n",
    "    )\n",
    "    print(\"Connection to PostgreSQL successful!\")\n",
    "    \n",
    "    # Now you can execute SQL queries or perform database operations using this connection\n",
    "    \n",
    "except (Exception, psycopg2.Error) as error:\n",
    "    print(\"Error while connecting to PostgreSQL:\", error)\n"
   ]
  },
  {
   "cell_type": "code",
   "execution_count": 3,
   "metadata": {},
   "outputs": [],
   "source": [
    "db_cursor=db_conn.cursor()"
   ]
  },
  {
   "cell_type": "code",
   "execution_count": 4,
   "metadata": {},
   "outputs": [],
   "source": [
    "db_cursor.execute(\"\"\"\n",
    "    CREATE TABLE users (\n",
    "    id SERIAL PRIMARY KEY,\n",
    "    name VARCHAR(100),\n",
    "    username VARCHAR(100) UNIQUE,\n",
    "    password VARCHAR(100)\n",
    ");\n",
    "    \"\"\")\n",
    "\n",
    "db_conn.commit()\n",
    "db_conn.close()"
   ]
  },
  {
   "cell_type": "code",
   "execution_count": 5,
   "metadata": {},
   "outputs": [],
   "source": [
    "from fastapi import FastAPI, HTTPException\n",
    "from pydantic import BaseModel\n",
    "from typing import List, Annotated"
   ]
  },
  {
   "cell_type": "code",
   "execution_count": 6,
   "metadata": {},
   "outputs": [],
   "source": [
    "app=FastAPI()"
   ]
  },
  {
   "cell_type": "code",
   "execution_count": 7,
   "metadata": {},
   "outputs": [],
   "source": [
    "class UpdateRequest(BaseModel):\n",
    "    id: int\n",
    "    username: str\n",
    "    password: str\n",
    "    name: str\n"
   ]
  },
  {
   "cell_type": "code",
   "execution_count": 8,
   "metadata": {},
   "outputs": [],
   "source": [
    "@app.get('/')\n",
    "def read_root(data):\n",
    "    print(data)\n",
    "    return {\"Welcome\": \"Gulam Sarvar\"}"
   ]
  },
  {
   "cell_type": "code",
   "execution_count": 11,
   "metadata": {},
   "outputs": [],
   "source": [
    "@app.put(\"/update_table\")\n",
    "async def update_table(update_request: UpdateRequest):\n",
    "    try:\n",
    "        update_query = \"\"\"\n",
    "        UPDATE your_table_name\n",
    "        SET username = %s, password = %s, name = %s\n",
    "        WHERE id = %s;\n",
    "        \"\"\"\n",
    "        # Execute the SQL query to update the record\n",
    "        db_cursor.execute(update_query, (update_request.username, update_request.password, update_request.name, update_request.id))\n",
    "        # Commit the transaction\n",
    "        db_conn.commit()\n",
    "        return {\"message\": \"Record updated successfully.\"}\n",
    "    except (Exception, psycopg2.Error) as error:\n",
    "        # Rollback the transaction in case of error\n",
    "        if db_conn:\n",
    "            db_conn.rollback()\n",
    "        raise HTTPException(status_code=500, detail=f\"Error updating record: {error}\")\n",
    "    finally:\n",
    "        # Close the database connection\n",
    "        if db_conn:\n",
    "            db_cursor.close()\n",
    "            db_conn.close()"
   ]
  }
 ],
 "metadata": {
  "kernelspec": {
   "display_name": ".venv",
   "language": "python",
   "name": "python3"
  },
  "language_info": {
   "codemirror_mode": {
    "name": "ipython",
    "version": 3
   },
   "file_extension": ".py",
   "mimetype": "text/x-python",
   "name": "python",
   "nbconvert_exporter": "python",
   "pygments_lexer": "ipython3",
   "version": "3.11.4"
  }
 },
 "nbformat": 4,
 "nbformat_minor": 2
}
